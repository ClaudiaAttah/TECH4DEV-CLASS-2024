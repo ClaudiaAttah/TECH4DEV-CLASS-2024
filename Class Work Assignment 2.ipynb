{
 "cells": [
  {
   "cell_type": "code",
   "execution_count": 1,
   "id": "d8fa810c",
   "metadata": {},
   "outputs": [
    {
     "name": "stdout",
     "output_type": "stream",
     "text": [
      "1\n",
      "2\n",
      "3\n",
      "4\n",
      "5\n",
      "6\n",
      "7\n",
      "8\n",
      "9\n",
      "10\n"
     ]
    }
   ],
   "source": [
    "# Print the first 10 natural numbers\n",
    "for i in range(1, 11):\n",
    "    print(i)"
   ]
  },
  {
   "cell_type": "code",
   "execution_count": 17,
   "id": "ae324656",
   "metadata": {},
   "outputs": [
    {
     "name": "stdout",
     "output_type": "stream",
     "text": [
      "====The First 10 Natural Numbers====\n",
      "1\n",
      "2\n",
      "3\n",
      "4\n",
      "5\n",
      "6\n",
      "7\n",
      "8\n",
      "9\n",
      "10\n"
     ]
    }
   ],
   "source": [
    "print(\"====The First 10 Natural Numbers====\")\n",
    "for i in range(1, 11):\n",
    "    print(i)"
   ]
  },
  {
   "cell_type": "code",
   "execution_count": 20,
   "id": "d0c73df1",
   "metadata": {},
   "outputs": [
    {
     "name": "stdout",
     "output_type": "stream",
     "text": [
      "The total number of digits in 12345 is: 5\n"
     ]
    }
   ],
   "source": [
    "# Function to count the total number of digits in a number\n",
    "def count_digits(number):\n",
    "    # Convert the number to a string and calculate the length\n",
    "    num_str = str(number)\n",
    "    return len(num_str)\n",
    "\n",
    "# Example\n",
    "input_number = 12345\n",
    "result = count_digits(input_number)\n",
    "\n",
    "# Print the result\n",
    "print(f\"The total number of digits in {input_number} is: {result}\")\n"
   ]
  },
  {
   "cell_type": "code",
   "execution_count": 18,
   "id": "6568fe52",
   "metadata": {},
   "outputs": [
    {
     "name": "stdout",
     "output_type": "stream",
     "text": [
      "Prime numbers between 10 and 50:\n",
      "11\n",
      "13\n",
      "17\n",
      "19\n",
      "23\n",
      "29\n",
      "31\n",
      "37\n",
      "41\n",
      "43\n",
      "47\n"
     ]
    }
   ],
   "source": [
    "# Function to check if a number is prime\n",
    "def is_prime(num):\n",
    "    if num < 2:\n",
    "        return False\n",
    "    for i in range(2, int(num**0.5) + 1):\n",
    "        if num % i == 0:\n",
    "            return False\n",
    "    return True\n",
    "\n",
    "# Function to display prime numbers within a range\n",
    "def display_primes(start, end):\n",
    "    print(f\"Prime numbers between {start} and {end}:\")\n",
    "    for num in range(start, end + 1):\n",
    "        if is_prime(num):\n",
    "            print(num)\n",
    "\n",
    "# Example range\n",
    "start_range = 10\n",
    "end_range = 50\n",
    "\n",
    "# Call the function to display prime numbers in the specified range\n",
    "display_primes(start_range, end_range)"
   ]
  },
  {
   "cell_type": "code",
   "execution_count": 19,
   "id": "7be6e24c",
   "metadata": {},
   "outputs": [
    {
     "name": "stdout",
     "output_type": "stream",
     "text": [
      "Multiplication table for 7:\n",
      "7 x 20 = 140\n",
      "7 x 21 = 147\n",
      "7 x 22 = 154\n",
      "7 x 23 = 161\n",
      "7 x 24 = 168\n",
      "7 x 25 = 175\n",
      "7 x 26 = 182\n",
      "7 x 27 = 189\n",
      "7 x 28 = 196\n",
      "7 x 29 = 203\n",
      "7 x 30 = 210\n",
      "7 x 31 = 217\n",
      "7 x 32 = 224\n",
      "7 x 33 = 231\n",
      "7 x 34 = 238\n",
      "7 x 35 = 245\n",
      "7 x 36 = 252\n",
      "7 x 37 = 259\n",
      "7 x 38 = 266\n",
      "7 x 39 = 273\n",
      "7 x 40 = 280\n",
      "7 x 41 = 287\n",
      "7 x 42 = 294\n",
      "7 x 43 = 301\n",
      "7 x 44 = 308\n",
      "7 x 45 = 315\n",
      "7 x 46 = 322\n",
      "7 x 47 = 329\n",
      "7 x 48 = 336\n",
      "7 x 49 = 343\n",
      "7 x 50 = 350\n"
     ]
    }
   ],
   "source": [
    "# Function to print the multiplication table of a given number\n",
    "def print_multiplication_table(number):\n",
    "    print(f\"Multiplication table for {number}:\")\n",
    "\n",
    "    # Print the table from 20 to 50\n",
    "    for i in range(20, 51):\n",
    "        result = number * i\n",
    "        print(f\"{number} x {i} = {result}\")\n",
    "\n",
    "# Example number\n",
    "given_number = 7  # Replace this with your desired number\n",
    "\n",
    "# Call the function to print the multiplication table\n",
    "print_multiplication_table(given_number)"
   ]
  },
  {
   "cell_type": "code",
   "execution_count": null,
   "id": "0f09b196",
   "metadata": {},
   "outputs": [],
   "source": []
  }
 ],
 "metadata": {
  "kernelspec": {
   "display_name": "Python 3 (ipykernel)",
   "language": "python",
   "name": "python3"
  },
  "language_info": {
   "codemirror_mode": {
    "name": "ipython",
    "version": 3
   },
   "file_extension": ".py",
   "mimetype": "text/x-python",
   "name": "python",
   "nbconvert_exporter": "python",
   "pygments_lexer": "ipython3",
   "version": "3.11.5"
  }
 },
 "nbformat": 4,
 "nbformat_minor": 5
}
