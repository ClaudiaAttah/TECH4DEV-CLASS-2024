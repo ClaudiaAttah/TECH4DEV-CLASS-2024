{
 "cells": [
  {
   "cell_type": "markdown",
   "id": "6fcb195c",
   "metadata": {},
   "source": [
    "# List Methods"
   ]
  },
  {
   "cell_type": "code",
   "execution_count": 4,
   "id": "69f9a8da",
   "metadata": {},
   "outputs": [],
   "source": [
    "#append()\n",
    "my_list = [1, 2, 3]\n",
    "my_list.append(4)"
   ]
  },
  {
   "cell_type": "code",
   "execution_count": null,
   "id": "58103bc4",
   "metadata": {},
   "outputs": [],
   "source": [
    "#extend():\n",
    "\n",
    "Extends the list by appending elements from another iterable\n",
    "my_list = [1, 2, 3]\n",
    "my_list.extend([4, 5])"
   ]
  },
  {
   "cell_type": "code",
   "execution_count": null,
   "id": "f9bfea07",
   "metadata": {},
   "outputs": [],
   "source": [
    "#insert():\n",
    "\n",
    "Inserts an element at a specified position.\n",
    "\n",
    "my_list = [1, 2, 3]\n",
    "my_list.insert(1, 5)"
   ]
  },
  {
   "cell_type": "code",
   "execution_count": null,
   "id": "25811ae9",
   "metadata": {},
   "outputs": [],
   "source": [
    "#remove():\n",
    "\n",
    "Removes the first occurrence of a specified element.\n",
    "\n",
    "my_list = [1, 2, 3, 2]\n",
    "my_list.remove(2)\n"
   ]
  },
  {
   "cell_type": "code",
   "execution_count": null,
   "id": "acc3d484",
   "metadata": {},
   "outputs": [],
   "source": [
    "#pop():\n",
    "\n",
    "Removes and returns the element at a specified index.\n",
    "python\n",
    "\n",
    "my_list = [1, 2, 3]\n",
    "popped_element = my_list.pop(1)"
   ]
  },
  {
   "cell_type": "code",
   "execution_count": null,
   "id": "14802ce2",
   "metadata": {},
   "outputs": [],
   "source": [
    "#index():\n",
    "\n",
    "Returns the index of the first occurrence of a specified element.\n",
    "python\n",
    "\n",
    "my_list = [1, 2, 3, 2]\n",
    "index = my_list.index(2)"
   ]
  },
  {
   "cell_type": "code",
   "execution_count": null,
   "id": "4519c350",
   "metadata": {},
   "outputs": [],
   "source": [
    "#count():\n",
    "\n",
    "Returns the number of occurrences of a specified element.\n",
    "python\n",
    "\n",
    "my_list = [1, 2, 3, 2]\n",
    "count = my_list.count(2)"
   ]
  },
  {
   "cell_type": "code",
   "execution_count": null,
   "id": "e63c5b32",
   "metadata": {},
   "outputs": [],
   "source": [
    "#sort():\n",
    "\n",
    "Sorts the elements of a list in ascending order.\n",
    "python\n",
    "\n",
    "my_list = [3, 1, 4, 1, 5, 9, 2]\n",
    "my_list.sort()"
   ]
  },
  {
   "cell_type": "code",
   "execution_count": null,
   "id": "65dc560f",
   "metadata": {},
   "outputs": [],
   "source": [
    "#Removes all elements from the list.\n",
    "\n",
    "python\n",
    "Copy code\n",
    "my_list = [1, 2, 3]\n",
    "my_list.clear()"
   ]
  },
  {
   "cell_type": "markdown",
   "id": "6412bc17",
   "metadata": {},
   "source": [
    "# Tuple Methods"
   ]
  },
  {
   "cell_type": "code",
   "execution_count": null,
   "id": "e33949ec",
   "metadata": {},
   "outputs": [],
   "source": [
    "#count():\n",
    "\n",
    "Returns the number of occurrences of a specified element.\n",
    "python\n",
    "\n",
    "my_tuple = (1, 2, 3, 2)\n",
    "count = my_tuple.count(2)"
   ]
  },
  {
   "cell_type": "code",
   "execution_count": null,
   "id": "f1d5997d",
   "metadata": {},
   "outputs": [],
   "source": [
    "#index():\n",
    "\n",
    "Returns the index of the first occurrence of a specified element.\n",
    "python\n",
    "\n",
    "my_tuple = (1, 2, 3, 2)\n",
    "index = my_tuple.index(2)"
   ]
  },
  {
   "cell_type": "markdown",
   "id": "c4508200",
   "metadata": {},
   "source": [
    "# Dictionary Methods"
   ]
  },
  {
   "cell_type": "code",
   "execution_count": null,
   "id": "3d475bc3",
   "metadata": {},
   "outputs": [],
   "source": [
    "#update():\n",
    "\n",
    "Updates the dictionary with elements from another dictionary or from an iterable of key-value pairs.\n",
    "python\n",
    "\n",
    "my_dict = {'a': 1, 'b': 2}\n",
    "my_dict.update({'b': 3, 'c': 4})"
   ]
  },
  {
   "cell_type": "code",
   "execution_count": null,
   "id": "6315adba",
   "metadata": {},
   "outputs": [],
   "source": [
    "#pop()\n",
    "\n",
    "Removes the item with the specified key and returns its value.\n",
    "python\n",
    "\n",
    "my_dict = {'a': 1, 'b': 2}\n",
    "value = my_dict.pop('a')"
   ]
  },
  {
   "cell_type": "code",
   "execution_count": null,
   "id": "147a4ae9",
   "metadata": {},
   "outputs": [],
   "source": [
    "#clear():\n",
    "\n",
    "Removes all items from the dictionary.\n",
    "python\n",
    "\n",
    "my_dict = {'a': 1, 'b': 2}\n",
    "my_dict.clear()"
   ]
  },
  {
   "cell_type": "code",
   "execution_count": null,
   "id": "9d38c2bb",
   "metadata": {},
   "outputs": [],
   "source": [
    "#setdefault():\n",
    "\n",
    "Returns the value of the specified key. If the key does not exist, insert the key with a specified value.\n",
    "python\n",
    "\n",
    "my_dict = {'a': 1, 'b': 2}\n",
    "value = my_dict.setdefault('c', 3)"
   ]
  },
  {
   "cell_type": "code",
   "execution_count": null,
   "id": "12b9d19f",
   "metadata": {},
   "outputs": [],
   "source": [
    "#fromkeys():\n",
    "\n",
    "Returns a new dictionary with the specified keys and values.\n",
    "python\n",
    "\n",
    "keys = ['a', 'b', 'c']\n",
    "values = 0\n",
    "my_dict = dict.fromkeys(keys, values)"
   ]
  },
  {
   "cell_type": "code",
   "execution_count": null,
   "id": "dc85b8c7",
   "metadata": {},
   "outputs": [],
   "source": [
    "#keys():\n",
    "\n",
    "Returns a view of all keys in the dictionary.\n",
    "python\n",
    "\n",
    "my_dict = {'a': 1, 'b': 2}\n",
    "keys = my_dict.keys()"
   ]
  },
  {
   "cell_type": "code",
   "execution_count": null,
   "id": "77541598",
   "metadata": {},
   "outputs": [],
   "source": [
    "#values():\n",
    "\n",
    "Returns a view of all values in the dictionary.\n",
    "python\n",
    "\n",
    "my_dict = {'a': 1, 'b': 2}\n",
    "values = my_dict.values()"
   ]
  }
 ],
 "metadata": {
  "kernelspec": {
   "display_name": "Python 3 (ipykernel)",
   "language": "python",
   "name": "python3"
  },
  "language_info": {
   "codemirror_mode": {
    "name": "ipython",
    "version": 3
   },
   "file_extension": ".py",
   "mimetype": "text/x-python",
   "name": "python",
   "nbconvert_exporter": "python",
   "pygments_lexer": "ipython3",
   "version": "3.11.5"
  }
 },
 "nbformat": 4,
 "nbformat_minor": 5
}
