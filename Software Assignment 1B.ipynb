{
 "cells": [
  {
   "cell_type": "code",
   "execution_count": 1,
   "id": "b58d9d21",
   "metadata": {},
   "outputs": [
    {
     "ename": "SyntaxError",
     "evalue": "invalid decimal literal (2188502187.py, line 1)",
     "output_type": "error",
     "traceback": [
      "\u001b[1;36m  Cell \u001b[1;32mIn[1], line 1\u001b[1;36m\u001b[0m\n\u001b[1;33m    Software Development- Python- Section 1B\u001b[0m\n\u001b[1;37m                                          ^\u001b[0m\n\u001b[1;31mSyntaxError\u001b[0m\u001b[1;31m:\u001b[0m invalid decimal literal\n"
     ]
    }
   ],
   "source": [
    "Software Development- Python- Section 1B"
   ]
  },
  {
   "cell_type": "markdown",
   "id": "ee79bbe8",
   "metadata": {},
   "source": [
    "#Question 1 "
   ]
  },
  {
   "cell_type": "code",
   "execution_count": 2,
   "id": "8d7de3f2",
   "metadata": {},
   "outputs": [
    {
     "name": "stdout",
     "output_type": "stream",
     "text": [
      "+ ---- +\n",
      "\\    /\n",
      "/    \\\n",
      "\\    /\n",
      "/    \\\n",
      "\\    /\n",
      "/    \\\n",
      "+ ---- +\n"
     ]
    }
   ],
   "source": [
    "def print_pattern():\n",
    "    \n",
    "    print(\"+\", \"-\"*4,\"+\")\n",
    "    \n",
    "    for _ in range(3):\n",
    "        \n",
    "        print(\"\\\\    /\")\n",
    "        \n",
    "        print(\"/    \\\\\")\n",
    "        \n",
    "    print(\"+\", \"-\"*4,\"+\")\n",
    "\n",
    "print_pattern()\n",
    "        "
   ]
  },
  {
   "cell_type": "markdown",
   "id": "ddd694e4",
   "metadata": {},
   "source": [
    "#Question 2 "
   ]
  },
  {
   "cell_type": "code",
   "execution_count": 3,
   "id": "bbf7d8dc",
   "metadata": {},
   "outputs": [
    {
     "name": "stdout",
     "output_type": "stream",
     "text": [
      "**********\n",
      "**********\n",
      "**********\n",
      "**********\n",
      "**********\n"
     ]
    }
   ],
   "source": [
    "def print_pattern():\n",
    "    for i in range(5):\n",
    "        print(\"*\"*10)\n",
    "        \n",
    "print_pattern()"
   ]
  },
  {
   "cell_type": "markdown",
   "id": "4bd19367",
   "metadata": {},
   "source": [
    "#Question 3"
   ]
  },
  {
   "cell_type": "code",
   "execution_count": 4,
   "id": "131f3ff4",
   "metadata": {},
   "outputs": [
    {
     "name": "stdout",
     "output_type": "stream",
     "text": [
      "1\n",
      "2\n",
      "3\n",
      "4\n",
      "5\n",
      "6\n"
     ]
    }
   ],
   "source": [
    "#a\n",
    "for i in range(1,7):\n",
    "    print(i)"
   ]
  },
  {
   "cell_type": "code",
   "execution_count": 5,
   "id": "de9f75a6",
   "metadata": {},
   "outputs": [
    {
     "name": "stdout",
     "output_type": "stream",
     "text": [
      "2\n",
      "4\n",
      "6\n",
      "8\n",
      "10\n",
      "12\n"
     ]
    }
   ],
   "source": [
    "#b\n",
    "for i in range(2,14,2):\n",
    "    print(i)"
   ]
  },
  {
   "cell_type": "code",
   "execution_count": 6,
   "id": "613f0353",
   "metadata": {},
   "outputs": [
    {
     "name": "stdout",
     "output_type": "stream",
     "text": [
      "4\n",
      "19\n",
      "34\n",
      "49\n",
      "64\n",
      "79\n"
     ]
    }
   ],
   "source": [
    "#c\n",
    "for i in range(4,80,15):\n",
    "    print(i)"
   ]
  },
  {
   "cell_type": "code",
   "execution_count": 7,
   "id": "a642b69c",
   "metadata": {},
   "outputs": [
    {
     "name": "stdout",
     "output_type": "stream",
     "text": [
      "30\n",
      "20\n",
      "10\n",
      "0\n",
      "-10\n",
      "-20\n"
     ]
    }
   ],
   "source": [
    "#d\n",
    "for i in range(30,-30,-10):\n",
    "    print(i)"
   ]
  },
  {
   "cell_type": "code",
   "execution_count": 8,
   "id": "52a4e7d5",
   "metadata": {},
   "outputs": [
    {
     "name": "stdout",
     "output_type": "stream",
     "text": [
      "-7\n",
      "-3\n",
      "1\n",
      "5\n",
      "9\n",
      "13\n"
     ]
    }
   ],
   "source": [
    "#e\n",
    "for i in range(-7,17,4):\n",
    "    print(i)"
   ]
  },
  {
   "cell_type": "code",
   "execution_count": 9,
   "id": "aa722a93",
   "metadata": {},
   "outputs": [
    {
     "name": "stdout",
     "output_type": "stream",
     "text": [
      "97\n",
      "94\n",
      "91\n",
      "88\n",
      "85\n",
      "82\n"
     ]
    }
   ],
   "source": [
    "#f\n",
    "for i in range(97,79,-3):\n",
    "    print(i)"
   ]
  },
  {
   "cell_type": "code",
   "execution_count": 10,
   "id": "7b2679fb",
   "metadata": {},
   "outputs": [
    {
     "name": "stdout",
     "output_type": "stream",
     "text": [
      "-4\n",
      "14\n",
      "32\n",
      "50\n",
      "68\n",
      "86\n"
     ]
    }
   ],
   "source": [
    "#g\n",
    "for i in range(-4,104,18):\n",
    "    print(i)"
   ]
  },
  {
   "cell_type": "code",
   "execution_count": 11,
   "id": "b9ec2476",
   "metadata": {},
   "outputs": [
    {
     "name": "stdout",
     "output_type": "stream",
     "text": [
      "1\n",
      "22\n",
      "333\n",
      "4444\n",
      "55555\n",
      "666666\n",
      "7777777\n"
     ]
    }
   ],
   "source": [
    "#Question 4\n",
    "\n",
    "def num_pattern():\n",
    "         for i in range(0,7):\n",
    "            for a in range(0,i+1):\n",
    "                print(i+1,end='')\n",
    "            print()\n",
    "num_pattern()            "
   ]
  },
  {
   "cell_type": "code",
   "execution_count": 12,
   "id": "f257486f",
   "metadata": {},
   "outputs": [
    {
     "name": "stdout",
     "output_type": "stream",
     "text": [
      "50.0\n"
     ]
    }
   ],
   "source": [
    "#Question 5\n",
    "\n",
    "def pay(salary, hours_worked):\n",
    "    if hours_worked <= 8:\n",
    "        total_pay = salary * hours_worked\n",
    "    else:\n",
    "        regular_pay = salary * 8\n",
    "        overtime_pay = 1.5 * salary * (hours_worked - 8)\n",
    "        total_pay = regular_pay + overtime_pay\n",
    "        \n",
    "    print(total_pay)\n",
    "pay(4.00, 11)\n",
    "        \n",
    "\n"
   ]
  },
  {
   "cell_type": "code",
   "execution_count": 13,
   "id": "005e9c3d",
   "metadata": {},
   "outputs": [
    {
     "name": "stdout",
     "output_type": "stream",
     "text": [
      "12.566370614359172\n"
     ]
    }
   ],
   "source": [
    "#Question 6\n",
    "\n",
    "import math \n",
    "math.pi\n",
    "def area (r):\n",
    "    circle = r * r * math.pi\n",
    "    print(circle)\n",
    "area(2)"
   ]
  },
  {
   "cell_type": "code",
   "execution_count": 14,
   "id": "c2765760",
   "metadata": {},
   "outputs": [
    {
     "name": "stdout",
     "output_type": "stream",
     "text": [
      "sum = 500500\n"
     ]
    }
   ],
   "source": [
    "#Question 7\n",
    "low = 1\n",
    "high = 1001\n",
    "sum_result = 0\n",
    "\n",
    "for i in range(low, high):\n",
    "    sum_result += i\n",
    "\n",
    "print(\"sum =\", sum_result)\n"
   ]
  },
  {
   "cell_type": "code",
   "execution_count": 15,
   "id": "d6e9afe0",
   "metadata": {},
   "outputs": [
    {
     "name": "stdout",
     "output_type": "stream",
     "text": [
      "sum = 13986903\n"
     ]
    }
   ],
   "source": [
    "\n",
    "low = 300\n",
    "high = 5298\n",
    "sum_result = 0\n",
    "\n",
    "for i in range(low, high):\n",
    "    sum_result += i\n",
    "\n",
    "print(\"sum =\", sum_result)"
   ]
  },
  {
   "cell_type": "code",
   "execution_count": 17,
   "id": "1b750bc1",
   "metadata": {},
   "outputs": [
    {
     "name": "stdout",
     "output_type": "stream",
     "text": [
      "Enter a number (0 to quit): 0\n",
      "The total sum is: 0\n"
     ]
    }
   ],
   "source": [
    "#Question 8\n",
    "\n",
    "total_sum = 0\n",
    "\n",
    "while True:\n",
    "    number = int(input(\"Enter a number (0 to quit): \"))\n",
    "    if number == 0:\n",
    "        break\n",
    "    total_sum += number\n",
    "\n",
    "print(\"The total sum is:\", total_sum)\n"
   ]
  },
  {
   "cell_type": "code",
   "execution_count": null,
   "id": "3f2ba270",
   "metadata": {
    "scrolled": true
   },
   "outputs": [],
   "source": [
    "total_sum = -1\n",
    "\n",
    "while True:\n",
    "    number = int(input(\"Enter a number (0 to quit): \"))\n",
    "    if number == -1:\n",
    "        break\n",
    "    total_sum += number\n",
    "\n",
    "print(\"The total sum is:\", total_sum)\n"
   ]
  },
  {
   "cell_type": "code",
   "execution_count": null,
   "id": "ce71f454",
   "metadata": {},
   "outputs": [],
   "source": [
    "total_sum = 0\n",
    "\n",
    "while True:\n",
    "    number = int(input(\"Enter a number (-1 to quit): \"))\n",
    "    if number == -1:\n",
    "        break\n",
    "    total_sum += number\n",
    "\n",
    "print(\"The total sum is:\", total_sum)\n"
   ]
  },
  {
   "cell_type": "code",
   "execution_count": 1,
   "id": "8d0a74df",
   "metadata": {
    "scrolled": true
   },
   "outputs": [
    {
     "name": "stdout",
     "output_type": "stream",
     "text": [
      "Enter a number (-1 to quit): -1\n",
      "The total sum is: 0\n"
     ]
    }
   ],
   "source": [
    "#Question 9\n",
    "\n",
    "total_sum = 0\n",
    "\n",
    "while True:\n",
    "    number = int(input(\"Enter a number (-1 to quit): \"))\n",
    "    if number == -1:\n",
    "        break\n",
    "    total_sum += number\n",
    "\n",
    "print(\"The total sum is:\", total_sum)\n"
   ]
  },
  {
   "cell_type": "code",
   "execution_count": 11,
   "id": "905a1468",
   "metadata": {},
   "outputs": [
    {
     "name": "stdout",
     "output_type": "stream",
     "text": [
      "hellohellohello\n"
     ]
    }
   ],
   "source": [
    "#Question 10\n",
    "\n",
    "def repl(string, repetitions):\n",
    "\n",
    " if repetitions <= 0:\n",
    "   return \"\"\n",
    " else:\n",
    "   return string * repetitions\n",
    "\n",
    "\n",
    "result = repl(\"hello\", 3)\n",
    "print(result)  \n"
   ]
  },
  {
   "cell_type": "code",
   "execution_count": 12,
   "id": "928cecb3",
   "metadata": {},
   "outputs": [
    {
     "name": "stdout",
     "output_type": "stream",
     "text": [
      "2 3 4 5 6 7 "
     ]
    }
   ],
   "source": [
    "#Question 11\n",
    "\n",
    "def printRange(x, y):\n",
    " for i in range(x, y + 1):\n",
    "    print(i, end=\" \")\n",
    "        \n",
    "printRange(2, 7)       "
   ]
  },
  {
   "cell_type": "code",
   "execution_count": 13,
   "id": "283c016d",
   "metadata": {},
   "outputs": [
    {
     "name": "stdout",
     "output_type": "stream",
     "text": [
      "19 18 17 16 15 14 13 12 11 "
     ]
    }
   ],
   "source": [
    "def printRange(x, y):\n",
    "    \n",
    "    if x < y:\n",
    "        for i in range(x, y + 1):\n",
    "         print(i)\n",
    "    else:\n",
    "        for i in range (x, y - 1, -1):\n",
    "         print(i, end=\" \")\n",
    "        \n",
    "printRange(19, 11)"
   ]
  },
  {
   "cell_type": "code",
   "execution_count": 15,
   "id": "ccd4a014",
   "metadata": {},
   "outputs": [
    {
     "name": "stdout",
     "output_type": "stream",
     "text": [
      "5 "
     ]
    }
   ],
   "source": [
    "def printRange(x, y):\n",
    "    \n",
    "    if x < y:\n",
    "        for i in range(x, y + 1):\n",
    "         print(i)\n",
    "    else:\n",
    "        for i in range (x, y - 1, -1):\n",
    "         print(i, end=\" \")\n",
    "        \n",
    "printRange(5,5)"
   ]
  },
  {
   "cell_type": "code",
   "execution_count": 26,
   "id": "2f280c90",
   "metadata": {},
   "outputs": [
    {
     "name": "stdout",
     "output_type": "stream",
     "text": [
      "How many numbers do you want to enter? 4\n",
      "Number 1: 5\n",
      "Number 2: 11\n",
      "Number 3: -2\n",
      "Number 4: 3\n",
      "Smallest: -2\n",
      "Largest: 11\n"
     ]
    }
   ],
   "source": [
    "#Question 12\n",
    "def smallest_largest():\n",
    "    num_of_numbers = int(input(\"How many numbers do you want to enter? \"))  \n",
    "    if num_of_numbers > 0:\n",
    "        numbers = []\n",
    "        for i in range(1, num_of_numbers + 1):\n",
    "            num = int(input(f\"Number {i}: \"))\n",
    "            numbers.append(num)\n",
    "        smallest = min(numbers)\n",
    "        largest = max(numbers)\n",
    "        print(f\"Smallest: {smallest}\")\n",
    "        print(f\"Largest: {largest}\")\n",
    "\n",
    "smallest_largest()\n"
   ]
  },
  {
   "cell_type": "code",
   "execution_count": 2,
   "id": "205f68c0",
   "metadata": {},
   "outputs": [
    {
     "name": "stdout",
     "output_type": "stream",
     "text": [
      "Type a number: 7\n",
      "Type a number: 4\n",
      "Type a number: 16\n",
      "Type a number: -4\n",
      "Average was 9.00\n"
     ]
    }
   ],
   "source": [
    "#Question 13\n",
    "def print_average():\n",
    "    total = 0\n",
    "    count = 0\n",
    "\n",
    "    while True:\n",
    "        num = float(input(\"Type a number: \"))\n",
    "        \n",
    "        if count == 0 and num < 0:\n",
    "            print(\"No nonnegative numbers entered.\")\n",
    "            break\n",
    "        \n",
    "        if num < 0:\n",
    "            average = total / count\n",
    "            print(f\"Average was {average:.2f}\")\n",
    "            break\n",
    "        \n",
    "        total += num\n",
    "        count += 1\n",
    "\n",
    "# Test the method\n",
    "print_average()\n",
    "\n"
   ]
  },
  {
   "cell_type": "code",
   "execution_count": 1,
   "id": "a8a9ccf1",
   "metadata": {},
   "outputs": [
    {
     "name": "stdout",
     "output_type": "stream",
     "text": [
      "Type a number: -2\n",
      "do not print the code.\n"
     ]
    }
   ],
   "source": [
    "def print_average():\n",
    "    total = 0\n",
    "    count = 0\n",
    "\n",
    "    while True:\n",
    "        num = float(input(\"Type a number: \"))\n",
    "        \n",
    "        if count == 0 and num < 0:\n",
    "            print(\"do not print the code.\")\n",
    "            break\n",
    "        \n",
    "        if num < 0:\n",
    "            average = total / count\n",
    "            print(f\"Average was {average:.2f}\")\n",
    "            break\n",
    "        \n",
    "        total += num\n",
    "        count += 1\n",
    "\n",
    "# Test the method\n",
    "print_average()"
   ]
  },
  {
   "cell_type": "code",
   "execution_count": 7,
   "id": "c8ffc68e",
   "metadata": {},
   "outputs": [
    {
     "name": "stdout",
     "output_type": "stream",
     "text": [
      "3\n",
      "2\n"
     ]
    }
   ],
   "source": [
    "#Question 14\n",
    "\n",
    "def numunique(number1, number2, number3):\n",
    "    unique_num = len(set([number1,number2,number3]))\n",
    "    return unique_num\n",
    "result = numunique(18,3,4)\n",
    "print(result)\n",
    "result = numunique(6,7,6)\n",
    "print(result)"
   ]
  },
  {
   "cell_type": "code",
   "execution_count": 11,
   "id": "db2f11ae",
   "metadata": {},
   "outputs": [
    {
     "name": "stdout",
     "output_type": "stream",
     "text": [
      "Roll1:2 + 2 = 4\n",
      "Roll2:4 + 2 = 6\n",
      "Roll3:5 + 6 = 11\n",
      "Roll4:6 + 2 = 8\n",
      "Roll5:2 + 1 = 3\n",
      "Roll6:6 + 6 = 12\n",
      "Roll7:1 + 3 = 4\n",
      "Roll8:3 + 1 = 4\n",
      "Roll9:1 + 1 = 2\n",
      "Roll10:4 + 5 = 9\n",
      "Roll11:2 + 1 = 3\n",
      "Roll12:1 + 6 = 7\n",
      "combine result of 7 achieved in 12rolls\n"
     ]
    }
   ],
   "source": [
    "#Question 15\n",
    "\n",
    "import random\n",
    "def roll_dice():\n",
    "    return random.randint(1, 6)\n",
    "def simulate_dice_rolling():\n",
    "    total = 0\n",
    "    rolls = 0\n",
    "    while total != 7:\n",
    "        dice1 = roll_dice()\n",
    "        dice2 = roll_dice()\n",
    "        total = dice1 + dice2\n",
    "        rolls += 1\n",
    "        print(f\"Roll{rolls}:{dice1} + {dice2} = {total}\")\n",
    "    print(f\"combine result of 7 achieved in {rolls}rolls\")\n",
    "simulate_dice_rolling()"
   ]
  },
  {
   "cell_type": "code",
   "execution_count": null,
   "id": "21c6b91e",
   "metadata": {},
   "outputs": [],
   "source": [
    "\n"
   ]
  },
  {
   "cell_type": "code",
   "execution_count": null,
   "id": "25104a25",
   "metadata": {},
   "outputs": [],
   "source": []
  },
  {
   "cell_type": "code",
   "execution_count": null,
   "id": "78b1ef1f",
   "metadata": {},
   "outputs": [],
   "source": []
  },
  {
   "cell_type": "code",
   "execution_count": null,
   "id": "b452b390",
   "metadata": {},
   "outputs": [],
   "source": []
  },
  {
   "cell_type": "code",
   "execution_count": null,
   "id": "701a16cf",
   "metadata": {},
   "outputs": [],
   "source": []
  },
  {
   "cell_type": "code",
   "execution_count": null,
   "id": "2f710b47",
   "metadata": {},
   "outputs": [],
   "source": []
  },
  {
   "cell_type": "code",
   "execution_count": null,
   "id": "f3ed483b",
   "metadata": {},
   "outputs": [],
   "source": []
  },
  {
   "cell_type": "code",
   "execution_count": null,
   "id": "055c46b5",
   "metadata": {},
   "outputs": [],
   "source": []
  },
  {
   "cell_type": "code",
   "execution_count": null,
   "id": "6121de49",
   "metadata": {},
   "outputs": [],
   "source": []
  },
  {
   "cell_type": "code",
   "execution_count": null,
   "id": "d4d07dde",
   "metadata": {},
   "outputs": [],
   "source": []
  },
  {
   "cell_type": "code",
   "execution_count": null,
   "id": "bec6b17f",
   "metadata": {},
   "outputs": [],
   "source": []
  },
  {
   "cell_type": "code",
   "execution_count": null,
   "id": "67a83c8f",
   "metadata": {},
   "outputs": [],
   "source": []
  },
  {
   "cell_type": "code",
   "execution_count": null,
   "id": "6a8dba89",
   "metadata": {},
   "outputs": [],
   "source": []
  },
  {
   "cell_type": "code",
   "execution_count": null,
   "id": "83183517",
   "metadata": {},
   "outputs": [],
   "source": []
  },
  {
   "cell_type": "code",
   "execution_count": null,
   "id": "6cb775f9",
   "metadata": {},
   "outputs": [],
   "source": []
  },
  {
   "cell_type": "code",
   "execution_count": null,
   "id": "1590151a",
   "metadata": {},
   "outputs": [],
   "source": []
  },
  {
   "cell_type": "code",
   "execution_count": null,
   "id": "c34cb405",
   "metadata": {},
   "outputs": [],
   "source": []
  },
  {
   "cell_type": "code",
   "execution_count": null,
   "id": "3b236180",
   "metadata": {},
   "outputs": [],
   "source": []
  },
  {
   "cell_type": "code",
   "execution_count": null,
   "id": "22632504",
   "metadata": {},
   "outputs": [],
   "source": []
  },
  {
   "cell_type": "code",
   "execution_count": null,
   "id": "c748979f",
   "metadata": {},
   "outputs": [],
   "source": []
  },
  {
   "cell_type": "markdown",
   "id": "70ddb4e7",
   "metadata": {},
   "source": []
  },
  {
   "cell_type": "code",
   "execution_count": null,
   "id": "dc09143c",
   "metadata": {},
   "outputs": [],
   "source": []
  },
  {
   "cell_type": "code",
   "execution_count": null,
   "id": "5210b7e0",
   "metadata": {},
   "outputs": [],
   "source": []
  },
  {
   "cell_type": "code",
   "execution_count": null,
   "id": "6779dded",
   "metadata": {},
   "outputs": [],
   "source": []
  },
  {
   "cell_type": "code",
   "execution_count": null,
   "id": "e1db5c22",
   "metadata": {},
   "outputs": [],
   "source": []
  },
  {
   "cell_type": "code",
   "execution_count": null,
   "id": "7b2b9880",
   "metadata": {},
   "outputs": [],
   "source": []
  }
 ],
 "metadata": {
  "kernelspec": {
   "display_name": "Python 3 (ipykernel)",
   "language": "python",
   "name": "python3"
  },
  "language_info": {
   "codemirror_mode": {
    "name": "ipython",
    "version": 3
   },
   "file_extension": ".py",
   "mimetype": "text/x-python",
   "name": "python",
   "nbconvert_exporter": "python",
   "pygments_lexer": "ipython3",
   "version": "3.11.5"
  }
 },
 "nbformat": 4,
 "nbformat_minor": 5
}
