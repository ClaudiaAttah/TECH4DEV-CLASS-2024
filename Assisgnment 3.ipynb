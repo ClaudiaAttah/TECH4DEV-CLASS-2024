{
 "cells": [
  {
   "cell_type": "markdown",
   "id": "2439c98d",
   "metadata": {},
   "source": [
    "Software Development- Python- Section 1B"
   ]
  },
  {
   "cell_type": "markdown",
   "id": "b4d1837e",
   "metadata": {},
   "source": [
    "#Question 1 "
   ]
  },
  {
   "cell_type": "code",
   "execution_count": 40,
   "id": "86f23513",
   "metadata": {},
   "outputs": [
    {
     "name": "stdout",
     "output_type": "stream",
     "text": [
      "+ ---- +\n",
      "\\    /\n",
      "/    \\\n",
      "\\    /\n",
      "/    \\\n",
      "\\    /\n",
      "/    \\\n",
      "+ ---- +\n"
     ]
    }
   ],
   "source": [
    "def print_pattern():\n",
    "    \n",
    "    print(\"+\", \"-\"*4,\"+\")\n",
    "    \n",
    "    for _ in range(3):\n",
    "        \n",
    "        print(\"\\\\    /\")\n",
    "        \n",
    "        print(\"/    \\\\\")\n",
    "        \n",
    "    print(\"+\", \"-\"*4,\"+\")\n",
    "\n",
    "print_pattern()\n",
    "        "
   ]
  },
  {
   "cell_type": "markdown",
   "id": "679c4fe5",
   "metadata": {},
   "source": [
    "#Question 2 "
   ]
  },
  {
   "cell_type": "code",
   "execution_count": 89,
   "id": "b96f0a29",
   "metadata": {},
   "outputs": [
    {
     "name": "stdout",
     "output_type": "stream",
     "text": [
      "**********\n",
      "**********\n",
      "**********\n",
      "**********\n",
      "**********\n"
     ]
    }
   ],
   "source": [
    "def print_pattern():\n",
    "    for i in range(5):\n",
    "        print(\"*\"*10)\n",
    "        \n",
    "print_pattern()"
   ]
  },
  {
   "cell_type": "markdown",
   "id": "c9594171",
   "metadata": {},
   "source": [
    "#Question 3"
   ]
  },
  {
   "cell_type": "code",
   "execution_count": 90,
   "id": "c4beb76e",
   "metadata": {},
   "outputs": [
    {
     "name": "stdout",
     "output_type": "stream",
     "text": [
      "1\n",
      "2\n",
      "3\n",
      "4\n",
      "5\n",
      "6\n"
     ]
    }
   ],
   "source": [
    "#a\n",
    "for i in range(1,7):\n",
    "    print(i)"
   ]
  },
  {
   "cell_type": "code",
   "execution_count": 96,
   "id": "53a29f53",
   "metadata": {},
   "outputs": [
    {
     "name": "stdout",
     "output_type": "stream",
     "text": [
      "2\n",
      "4\n",
      "6\n",
      "8\n",
      "10\n",
      "12\n"
     ]
    }
   ],
   "source": [
    "#b\n",
    "for i in range(2,14,2):\n",
    "    print(i)"
   ]
  },
  {
   "cell_type": "code",
   "execution_count": 99,
   "id": "f3083379",
   "metadata": {},
   "outputs": [
    {
     "name": "stdout",
     "output_type": "stream",
     "text": [
      "4\n",
      "19\n",
      "34\n",
      "49\n",
      "64\n",
      "79\n"
     ]
    }
   ],
   "source": [
    "#c\n",
    "for i in range(4,80,15):\n",
    "    print(i)"
   ]
  },
  {
   "cell_type": "code",
   "execution_count": 120,
   "id": "886b6dba",
   "metadata": {},
   "outputs": [
    {
     "name": "stdout",
     "output_type": "stream",
     "text": [
      "30\n",
      "20\n",
      "10\n",
      "0\n",
      "-10\n",
      "-20\n"
     ]
    }
   ],
   "source": [
    "#d\n",
    "for i in range(30,-30,-10):\n",
    "    print(i)"
   ]
  },
  {
   "cell_type": "code",
   "execution_count": 125,
   "id": "7e0e0055",
   "metadata": {},
   "outputs": [
    {
     "name": "stdout",
     "output_type": "stream",
     "text": [
      "-7\n",
      "-3\n",
      "1\n",
      "5\n",
      "9\n",
      "13\n"
     ]
    }
   ],
   "source": [
    "#e\n",
    "for i in range(-7,17,4):\n",
    "    print(i)"
   ]
  },
  {
   "cell_type": "code",
   "execution_count": 135,
   "id": "62c9d0b2",
   "metadata": {},
   "outputs": [
    {
     "name": "stdout",
     "output_type": "stream",
     "text": [
      "97\n",
      "94\n",
      "91\n",
      "88\n",
      "85\n",
      "82\n"
     ]
    }
   ],
   "source": [
    "#f\n",
    "for i in range(97,79,-3):\n",
    "    print(i)"
   ]
  },
  {
   "cell_type": "code",
   "execution_count": 137,
   "id": "38081615",
   "metadata": {},
   "outputs": [
    {
     "name": "stdout",
     "output_type": "stream",
     "text": [
      "-4\n",
      "14\n",
      "32\n",
      "50\n",
      "68\n",
      "86\n"
     ]
    }
   ],
   "source": [
    "#g\n",
    "for i in range(-4,104,18):\n",
    "    print(i)"
   ]
  },
  {
   "cell_type": "code",
   "execution_count": 161,
   "id": "53524adb",
   "metadata": {},
   "outputs": [
    {
     "name": "stdout",
     "output_type": "stream",
     "text": [
      "1\n",
      "22\n",
      "333\n",
      "4444\n",
      "55555\n",
      "666666\n",
      "7777777\n"
     ]
    }
   ],
   "source": [
    "#Question 4\n",
    "\n",
    "def num_pattern():\n",
    "         for i in range(0,7):\n",
    "            for a in range(0,i+1):\n",
    "                print(i+1,end='')\n",
    "            print()\n",
    "num_pattern()            "
   ]
  },
  {
   "cell_type": "code",
   "execution_count": 187,
   "id": "2edddb28",
   "metadata": {},
   "outputs": [
    {
     "name": "stdout",
     "output_type": "stream",
     "text": [
      "50.0\n"
     ]
    }
   ],
   "source": [
    "#Question 5\n",
    "\n",
    "def pay(salary, hours_worked):\n",
    "    if hours_worked <= 8:\n",
    "        total_pay = salary * hours_worked\n",
    "    else:\n",
    "        regular_pay = salary * 8\n",
    "        overtime_pay = 1.5 * salary * (hours_worked - 8)\n",
    "        total_pay = regular_pay + overtime_pay\n",
    "        \n",
    "    print(total_pay)\n",
    "pay(4.00, 11)\n",
    "        \n",
    "\n"
   ]
  },
  {
   "cell_type": "code",
   "execution_count": 189,
   "id": "5f60aaae",
   "metadata": {},
   "outputs": [
    {
     "name": "stdout",
     "output_type": "stream",
     "text": [
      "12.566370614359172\n"
     ]
    }
   ],
   "source": [
    "#Question 6\n",
    "\n",
    "import math \n",
    "math.pi\n",
    "def area (r):\n",
    "    circle = r * r * math.pi\n",
    "    print(circle)\n",
    "area(2)"
   ]
  },
  {
   "cell_type": "code",
   "execution_count": null,
   "id": "b3ed5906",
   "metadata": {},
   "outputs": [],
   "source": [
    "low = 1\n",
    "high = 1001\n",
    "sum_result = 0\n",
    "\n",
    "for i in range(low, high):\n",
    "    sum_result += i\n",
    "\n",
    "print(\"sum =\", sum_result)\n"
   ]
  },
  {
   "cell_type": "code",
   "execution_count": null,
   "id": "c3f77c48",
   "metadata": {},
   "outputs": [],
   "source": [
    "\n"
   ]
  },
  {
   "cell_type": "code",
   "execution_count": null,
   "id": "d7db612e",
   "metadata": {},
   "outputs": [],
   "source": [
    "\n"
   ]
  },
  {
   "cell_type": "code",
   "execution_count": null,
   "id": "96ec419e",
   "metadata": {},
   "outputs": [],
   "source": []
  },
  {
   "cell_type": "code",
   "execution_count": null,
   "id": "1b02672b",
   "metadata": {},
   "outputs": [],
   "source": []
  },
  {
   "cell_type": "code",
   "execution_count": null,
   "id": "40937e8f",
   "metadata": {},
   "outputs": [],
   "source": []
  },
  {
   "cell_type": "code",
   "execution_count": null,
   "id": "f84ff9ba",
   "metadata": {},
   "outputs": [],
   "source": []
  },
  {
   "cell_type": "code",
   "execution_count": null,
   "id": "535ced8e",
   "metadata": {},
   "outputs": [],
   "source": []
  },
  {
   "cell_type": "code",
   "execution_count": null,
   "id": "6675a7cf",
   "metadata": {},
   "outputs": [],
   "source": []
  },
  {
   "cell_type": "code",
   "execution_count": 138,
   "id": "33ec372b",
   "metadata": {},
   "outputs": [
    {
     "name": "stdout",
     "output_type": "stream",
     "text": [
      "1\n",
      "22\n",
      "333\n",
      "4444\n",
      "55555\n",
      "666666\n",
      "7777777\n"
     ]
    }
   ],
   "source": [
    "#Question 4 \n",
    "\n",
    "class NumberTriangle:\n",
    "    # Class constant to control the number of lines\n",
    "    NUM_LINES = 7\n",
    "\n",
    "    # Function to print the number triangle\n",
    "    def print_triangle(self):\n",
    "        for i in range(1, self.NUM_LINES + 1):\n",
    "            print(str(i) * i)\n",
    "\n",
    "# Create an instance of the class\n",
    "triangle_instance = NumberTriangle()\n",
    "\n",
    "# Call the function to print the triangle\n",
    "triangle_instance.print_triangle()\n"
   ]
  },
  {
   "cell_type": "code",
   "execution_count": 146,
   "id": "3ee1fd72",
   "metadata": {},
   "outputs": [
    {
     "name": "stdout",
     "output_type": "stream",
     "text": [
      "1\n",
      "22\n",
      "333\n",
      "4444\n",
      "55555\n",
      "666666\n",
      "7777777\n"
     ]
    }
   ],
   "source": [
    "class Numbertraingle:\n",
    "    NUM_LINES = 7\n",
    "    \n",
    "    def print_traingle(self):\n",
    "        \n",
    "        for i in range(1, self.NUM_LINES + 1):\n",
    "            print (str(i)*i)\n",
    "        \n",
    "traingle_instance = Numbertraingle()\n",
    "\n",
    "traingle_instance.print_traingle()"
   ]
  },
  {
   "cell_type": "markdown",
   "id": "79a03735",
   "metadata": {},
   "source": [
    "#Question 5"
   ]
  },
  {
   "cell_type": "code",
   "execution_count": 147,
   "id": "b42abe3b",
   "metadata": {},
   "outputs": [
    {
     "name": "stdout",
     "output_type": "stream",
     "text": [
      "The TA should be paid: $33.0\n"
     ]
    }
   ],
   "source": [
    "def pay(salary, hours_worked):\n",
    "    # Assuming salary is hourly\n",
    "    total_payment = salary * hours_worked\n",
    "    return total_payment\n",
    "\n",
    "# Example usage\n",
    "ta_salary = 5.50  # TA's hourly salary\n",
    "hours_worked = 6  # Number of hours worked\n",
    "\n",
    "# Call the pay method\n",
    "payment_amount = pay(ta_salary, hours_worked)\n",
    "\n",
    "# Display the result\n",
    "print(f\"The TA should be paid: ${payment_amount}\")\n"
   ]
  },
  {
   "cell_type": "code",
   "execution_count": 148,
   "id": "9d2c080c",
   "metadata": {},
   "outputs": [
    {
     "name": "stdout",
     "output_type": "stream",
     "text": [
      "The TA should be paid (no overtime): $33.0\n",
      "The TA should be paid (with overtime): $50.0\n"
     ]
    }
   ],
   "source": [
    "def pay(hourly_salary, hours_worked):\n",
    "    normal_hours = 8\n",
    "    overtime_multiplier = 1.5\n",
    "\n",
    "    if hours_worked <= normal_hours:\n",
    "        total_payment = hourly_salary * hours_worked\n",
    "    else:\n",
    "        normal_payment = hourly_salary * normal_hours\n",
    "        overtime_payment = hourly_salary * overtime_multiplier * (hours_worked - normal_hours)\n",
    "        total_payment = normal_payment + overtime_payment\n",
    "\n",
    "    return total_payment\n",
    "\n",
    "# Example usage\n",
    "hourly_salary = 5.50  # TA's hourly salary\n",
    "hours_worked_1 = 6    # Number of hours worked (no overtime)\n",
    "hours_worked_2 = 11   # Number of hours worked (with overtime)\n",
    "\n",
    "# Call the pay method\n",
    "payment_amount_1 = pay(hourly_salary, hours_worked_1)\n",
    "payment_amount_2 = pay(4.00, hours_worked_2)\n",
    "\n",
    "# Display the results\n",
    "print(f\"The TA should be paid (no overtime): ${payment_amount_1}\")\n",
    "print(f\"The TA should be paid (with overtime): ${payment_amount_2}\")\n"
   ]
  },
  {
   "cell_type": "code",
   "execution_count": null,
   "id": "78275fb1",
   "metadata": {},
   "outputs": [],
   "source": []
  },
  {
   "cell_type": "code",
   "execution_count": null,
   "id": "a678f607",
   "metadata": {},
   "outputs": [],
   "source": []
  },
  {
   "cell_type": "code",
   "execution_count": null,
   "id": "63816d62",
   "metadata": {},
   "outputs": [],
   "source": []
  }
 ],
 "metadata": {
  "kernelspec": {
   "display_name": "Python 3 (ipykernel)",
   "language": "python",
   "name": "python3"
  },
  "language_info": {
   "codemirror_mode": {
    "name": "ipython",
    "version": 3
   },
   "file_extension": ".py",
   "mimetype": "text/x-python",
   "name": "python",
   "nbconvert_exporter": "python",
   "pygments_lexer": "ipython3",
   "version": "3.11.5"
  }
 },
 "nbformat": 4,
 "nbformat_minor": 5
}
